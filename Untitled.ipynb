{
 "cells": [
  {
   "cell_type": "code",
   "execution_count": 14,
   "metadata": {
    "collapsed": false,
    "jupyter": {
     "outputs_hidden": false
    }
   },
   "outputs": [],
   "source": [
    "import numpy as np\n",
    "import scipy.integrate as integrate\n",
    "import matplotlib.pyplot as plt"
   ]
  },
  {
   "cell_type": "code",
   "execution_count": 15,
   "metadata": {},
   "outputs": [],
   "source": [
    "def sin(radians):\n",
    "    \n",
    "    radians = np.float32(radians);\n",
    "    coeffs = np.array([0.00000000013291342,\n",
    "                      0.000000023317787,\n",
    "                      0.0000025222919,\n",
    "                      0.00017350505,\n",
    "                      0.0066208798,\n",
    "                      0.10132118,\n",
    "                      9.8696052419868325661544629284],dtype=np.float32)\n",
    "    \n",
    "    x2 = radians*radians\n",
    "    p11 = coeffs[0];\n",
    "    p9  = p11*x2 - coeffs[1];\n",
    "    p7  = p9*x2  + coeffs[2];\n",
    "    p5  = p7*x2  - coeffs[3];\n",
    "    p3  = p5*x2  + coeffs[4];\n",
    "    p1  = p3*x2  - coeffs[5];\n",
    "\n",
    "    return (x2 - coeffs[6]) * p1 * radians;"
   ]
  },
  {
   "cell_type": "code",
   "execution_count": 33,
   "metadata": {},
   "outputs": [],
   "source": [
    "def difference(func, rad):\n",
    "    return np.abs(func(rad) - np.sin(rad))"
   ]
  },
  {
   "cell_type": "code",
   "execution_count": 34,
   "metadata": {
    "collapsed": false,
    "jupyter": {
     "outputs_hidden": false
    }
   },
   "outputs": [
    {
     "name": "stdout",
     "output_type": "stream",
     "text": [
      "Average difference: 1.8891383540159651e-06, Max: 4.84039436851047e-05\n"
     ]
    }
   ],
   "source": [
    "avg = np.sum(difference(sin, np.linspace(-np.pi-1, np.pi+1, 100000)))/100000\n",
    "mx = np.max(difference(sin, np.linspace(-np.pi-1, np.pi+1, 100000)))\n",
    "print(\"Average difference: {}, Max: {}\".format(avg, mx))"
   ]
  },
  {
   "cell_type": "code",
   "execution_count": null,
   "metadata": {
    "collapsed": false,
    "jupyter": {
     "outputs_hidden": false
    }
   },
   "outputs": [],
   "source": []
  },
  {
   "cell_type": "code",
   "execution_count": 23,
   "metadata": {
    "collapsed": false,
    "jupyter": {
     "outputs_hidden": false
    }
   },
   "outputs": [
    {
     "data": {
      "text/plain": [
       "array([[ 0.00000000e+00],\n",
       "       [ 5.69230686e-01],\n",
       "       [ 0.00000000e+00],\n",
       "       [-6.66916672e-01],\n",
       "       [ 0.00000000e+00],\n",
       "       [ 1.04282369e-01],\n",
       "       [ 0.00000000e+00],\n",
       "       [-6.84063354e-03],\n",
       "       [ 0.00000000e+00],\n",
       "       [ 2.50006885e-04],\n",
       "       [ 0.00000000e+00],\n",
       "       [-5.85024831e-06]])"
      ]
     },
     "execution_count": 23,
     "metadata": {},
     "output_type": "execute_result"
    }
   ],
   "source": [
    "def T(n,x):\n",
    "    if n==0:\n",
    "        return 1\n",
    "    if n==1:\n",
    "        return x\n",
    "    return 2*x*T(n-1,x) - T(n-2,x)\n",
    "\n",
    "def Tc(n):\n",
    "    if n==0:\n",
    "        return {0:1}\n",
    "    if n==1:\n",
    "        return {0:0,1:1}\n",
    "    c1 = Tc(n-1)\n",
    "    c2 = Tc(n-2)\n",
    "    r = {}\n",
    "    for i in range(0, len(c1)):\n",
    "        if i in c1:\n",
    "            r[i+1] = 2*c1[i]\n",
    "        if i in r and i in c2:\n",
    "            r[i] -= c2[i]\n",
    "        elif i in c2:\n",
    "            r[i] = -c2[i]\n",
    "    return r\n",
    "\n",
    "def printTc(n):\n",
    "    out = \"\"\n",
    "    r = Tc(n)\n",
    "    for k in reversed(sorted(r.keys())):\n",
    "        if not r[k] == 0:\n",
    "            out += \"{}x**{} \".format(r[k], k)\n",
    "    print(out)\n",
    "    \n",
    "def A(n, f):\n",
    "    return integrate.quad(lambda x: f(x)*T(n,x)/np.sqrt(1-x**2), -1, 1)[0] \\\n",
    "        * ((n>0)+1)/np.pi # /integrate.quad(lambda x: T(0,x)**2/np.sqrt(1-x**2), -1, 1)[0]\n",
    "    \n",
    "#f = lambda x: np.sin(np.pi*(x+1)) #z/pi - 1 = x\n",
    "f = lambda x: np.sin(x*np.pi)\n",
    "    \n",
    "coeffs = np.array([ A(i, f) if not i%2 == 0 else 0 for i in range(0,12) ])\n",
    "coeffs[np.newaxis].T"
   ]
  },
  {
   "cell_type": "code",
   "execution_count": 24,
   "metadata": {
    "collapsed": false,
    "jupyter": {
     "outputs_hidden": false
    }
   },
   "outputs": [
    {
     "data": {
      "text/latex": [
       "$x \\mapsto \\color{LightGray}{\\text{0.0}} + \\text{3.1415913967032525}\\,x\\color{LightGray}{ + \\text{0.0}\\,x^{2}} - \\text{5.1676774231969995}\\,x^{3}\\color{LightGray}{ + \\text{0.0}\\,x^{4}} + \\text{2.5498793360869363}\\,x^{5}\\color{LightGray}{ + \\text{0.0}\\,x^{6}} - \\text{0.598278811311636}\\,x^{7}\\color{LightGray}{ + \\text{0.0}\\,x^{8}} + \\text{0.0804760617752125}\\,x^{9}\\color{LightGray}{ + \\text{0.0}\\,x^{10}} - \\text{0.005990654269293069}\\,x^{11}$"
      ],
      "text/plain": [
       "Polynomial([ 0.        ,  3.1415914 ,  0.        , -5.16767742,  0.        ,\n",
       "        2.54987934,  0.        , -0.59827881,  0.        ,  0.08047606,\n",
       "        0.        , -0.00599065], domain=[-1.,  1.], window=[-1.,  1.])"
      ]
     },
     "execution_count": 24,
     "metadata": {},
     "output_type": "execute_result"
    }
   ],
   "source": [
    "apx = lambda x: np.sum([coeffs[i] * T(i, x) for i in range(0,12)], axis=0)\n",
    "cb = np.polynomial.Chebyshev(coeffs)\n",
    "cb.convert(kind=np.polynomial.Polynomial)\n",
    "#df = lambda x: np.abs(apx(x) - f(x))\n",
    "#df(0.8)"
   ]
  },
  {
   "cell_type": "code",
   "execution_count": 67,
   "metadata": {
    "collapsed": false,
    "jupyter": {
     "outputs_hidden": false
    }
   },
   "outputs": [
    {
     "name": "stderr",
     "output_type": "stream",
     "text": [
      "/home/matze/.local/lib/python3.8/site-packages/numpy/core/fromnumeric.py:87: VisibleDeprecationWarning: Creating an ndarray from ragged nested sequences (which is a list-or-tuple of lists-or-tuples-or ndarrays with different lengths or shapes) is deprecated. If you meant to do this, you must specify 'dtype=object' when creating the ndarray\n",
      "  return ufunc.reduce(obj, axis, dtype, out, **passkwargs)\n"
     ]
    },
    {
     "data": {
      "image/png": "[encoded data removed]",
      "text/plain": [
       "<Figure size 432x288 with 1 Axes>"
      ]
     },
     "metadata": {
      "needs_background": "light"
     },
     "output_type": "display_data"
    }
   ],
   "source": [
    "x = np.linspace(-np.pi,np.pi,1000)\n",
    "apx(x)\n",
    "plt.plot(x, apx(x));\n",
    "plt.show();"
   ]
  },
  {
   "cell_type": "code",
   "execution_count": 21,
   "metadata": {
    "collapsed": false,
    "jupyter": {
     "outputs_hidden": false
    }
   },
   "outputs": [
    {
     "ename": "SyntaxError",
     "evalue": "invalid syntax (<ipython-input-21-921a439208c0>, line 1)",
     "output_type": "error",
     "traceback": [
      "\u001b[0;36m  File \u001b[0;32m\"<ipython-input-21-921a439208c0>\"\u001b[0;36m, line \u001b[0;32m1\u001b[0m\n\u001b[0;31m    c =\u001b[0m\n\u001b[0m        ^\u001b[0m\n\u001b[0;31mSyntaxError\u001b[0m\u001b[0;31m:\u001b[0m invalid syntax\n"
     ]
    }
   ],
   "source": []
  },
  {
   "cell_type": "code",
   "execution_count": 27,
   "metadata": {
    "collapsed": false,
    "jupyter": {
     "outputs_hidden": false
    }
   },
   "outputs": [
    {
     "ename": "NameError",
     "evalue": "name 'apx2' is not defined",
     "output_type": "error",
     "traceback": [
      "\u001b[0;31m---------------------------------------------------------------------------\u001b[0m",
      "\u001b[0;31mNameError\u001b[0m                                 Traceback (most recent call last)",
      "\u001b[0;32m<ipython-input-27-63d55a56f540>\u001b[0m in \u001b[0;36m<module>\u001b[0;34m\u001b[0m\n\u001b[0;32m----> 1\u001b[0;31m \u001b[0mplt\u001b[0m\u001b[0;34m.\u001b[0m\u001b[0mplot\u001b[0m\u001b[0;34m(\u001b[0m\u001b[0mx\u001b[0m\u001b[0;34m,\u001b[0m \u001b[0mapx2\u001b[0m\u001b[0;34m(\u001b[0m\u001b[0mx\u001b[0m\u001b[0;34m)\u001b[0m\u001b[0;34m)\u001b[0m\u001b[0;34m;\u001b[0m\u001b[0;34m\u001b[0m\u001b[0;34m\u001b[0m\u001b[0m\n\u001b[0m\u001b[1;32m      2\u001b[0m \u001b[0mplt\u001b[0m\u001b[0;34m.\u001b[0m\u001b[0mshow\u001b[0m\u001b[0;34m(\u001b[0m\u001b[0;34m)\u001b[0m\u001b[0;34m;\u001b[0m\u001b[0;34m\u001b[0m\u001b[0;34m\u001b[0m\u001b[0m\n",
      "\u001b[0;31mNameError\u001b[0m: name 'apx2' is not defined"
     ]
    }
   ],
   "source": [
    "plt.plot(x, apx2(x));\n",
    "plt.show();"
   ]
  },
  {
   "cell_type": "code",
   "execution_count": 54,
   "metadata": {
    "collapsed": false,
    "jupyter": {
     "outputs_hidden": false
    }
   },
   "outputs": [],
   "source": [
    "def short_sin(radians):\n",
    "    \n",
    "    radians = np.float32(radians);\n",
    "    coeffs = np.array([0.00017350505,\n",
    "                      0.0066208798,\n",
    "                      0.10132118,\n",
    "                      9.8696052419],dtype=np.float32)\n",
    "    \n",
    "    x2 = radians*radians\n",
    "    p5 = coeffs[0];\n",
    "    p3  = p5*x2 - coeffs[1];\n",
    "    p1  = p3*x2  + coeffs[2];\n",
    "    #p5  = p7*x2  - coeffs[3];\n",
    "    #p3  = p5*x2  + coeffs[4];\n",
    "    #p1  = p3*x2  - coeffs[5];\n",
    "\n",
    "    return (x2 - coeffs[3]) * -p1 * radians;"
   ]
  },
  {
   "cell_type": "code",
   "execution_count": 81,
   "metadata": {},
   "outputs": [
    {
     "name": "stdout",
     "output_type": "stream",
     "text": [
      "Average difference: 0.0017699905585428699, Max: 0.006463799303013662\n"
     ]
    }
   ],
   "source": [
    "step = np.linspace(-np.pi, np.pi, 100000)\n",
    "avg = np.sum(difference(short_sin, step))/ len(step)\n",
    "mx = np.max(difference(short_sin, step))\n",
    "print(\"Average difference: {}, Max: {}\".format(avg, mx))"
   ]
  },
  {
   "cell_type": "code",
   "execution_count": 82,
   "metadata": {},
   "outputs": [
    {
     "data": {
      "text/plain": [
       "[<matplotlib.lines.Line2D at 0x7fc0884cb6d0>]"
      ]
     },
     "execution_count": 82,
     "metadata": {},
     "output_type": "execute_result"
    },
    {
     "data": {
      "image/png": "[encoded data removed]",
      "text/plain": [
       "<Figure size 432x288 with 1 Axes>"
      ]
     },
     "metadata": {
      "needs_background": "light"
     },
     "output_type": "display_data"
    }
   ],
   "source": [
    "plt.plot(step, short_sin(step))\n",
    "plt.plot(step, np.sin(step))"
   ]
  },
  {
   "cell_type": "code",
   "execution_count": null,
   "metadata": {},
   "outputs": [],
   "source": []
  },
  {
   "cell_type": "code",
   "execution_count": null,
   "metadata": {},
   "outputs": [],
   "source": []
  }
 ],
 "metadata": {
  "anaconda-cloud": {},
  "kernelspec": {
   "display_name": "Python 3",
   "language": "python",
   "name": "python3"
  },
  "language_info": {
   "codemirror_mode": {
    "name": "ipython",
    "version": 3
   },
   "file_extension": ".py",
   "mimetype": "text/x-python",
   "name": "python",
   "nbconvert_exporter": "python",
   "pygments_lexer": "ipython3",
   "version": "3.8.5"
  }
 },
 "nbformat": 4,
 "nbformat_minor": 4
}
