{
 "cells": [
  {
   "cell_type": "code",
   "execution_count": 1,
   "metadata": {},
   "outputs": [
    {
     "data": {
      "text/plain": [
       "'1.3'"
      ]
     },
     "execution_count": 1,
     "metadata": {},
     "output_type": "execute_result"
    }
   ],
   "source": [
    "from sympy.utilities.lambdify import implemented_function\n",
    "from sympy import *\n",
    "import sympy\n",
    "import numpy as np\n",
    "import scipy.integrate as spint\n",
    "import matplotlib.pyplot as plt\n",
    "init_printing()\n",
    "sympy.__version__"
   ]
  },
  {
   "cell_type": "code",
   "execution_count": 505,
   "metadata": {},
   "outputs": [],
   "source": [
    "x = S('x')\n",
    "\n",
    "order = 8\n",
    "\n",
    "def T(n,x):\n",
    "    if n==0:\n",
    "        return 1\n",
    "    if n==1:\n",
    "        return x\n",
    "    return 2*x*T(n-1,x) - T(n-2,x)\n",
    "\n",
    "def A(n, f):\n",
    "    return Integral(f*T(n,x)/sqrt(1-x**2), (x, -1, 1)) * ((n>0)+1)/pi\n",
    "\n",
    "def Asin(n):\n",
    "    return A(n, sin(x*pi +  pi))\n",
    "\n",
    "def AsinNumeric(n, f):\n",
    "    return spint.quad(lambda x: f(x)*T(n,x)/np.sqrt(1-x**2), -1, 1)[0] * ((n>0)+1)/np.pi\n",
    "\n",
    "fn = lambda x: np.sin(x*np.pi)"
   ]
  },
  {
   "cell_type": "code",
   "execution_count": 506,
   "metadata": {},
   "outputs": [
    {
     "data": {
      "image/png": "[encoded data removed]",
      "text/latex": [
       "$$\\frac{2 \\int_{-1}^{1} \\frac{x \\left(- 4 x^{2} + 3\\right) \\sin{\\left (\\pi x \\right )}}{\\sqrt{- x^{2} + 1}}\\, dx}{\\pi}$$"
      ],
      "text/plain": [
       "  1                            \n",
       "  ⌠                            \n",
       "  ⎮    ⎛     2    ⎞            \n",
       "  ⎮  x⋅⎝- 4⋅x  + 3⎠⋅sin(π⋅x)   \n",
       "2⋅⎮  ─────────────────────── dx\n",
       "  ⎮          __________        \n",
       "  ⎮         ╱    2             \n",
       "  ⎮       ╲╱  - x  + 1         \n",
       "  ⌡                            \n",
       "  -1                           \n",
       "───────────────────────────────\n",
       "               π               "
      ]
     },
     "execution_count": 506,
     "metadata": {},
     "output_type": "execute_result"
    }
   ],
   "source": [
    "Asin(3).simplify()"
   ]
  },
  {
   "cell_type": "code",
   "execution_count": 507,
   "metadata": {},
   "outputs": [
    {
     "data": {
      "text/latex": [
       "$$\\left[\\begin{matrix}0.0 & 0.569230686359621 & 0.0 & -0.666916672405974 & 0.0 & 0.104282368734236 & 0.0 & -0.00684063353700161 & 0.0\\end{matrix}\\right]$$"
      ],
      "text/plain": [
       "[0.0  0.569230686359621  0.0  -0.666916672405974  0.0  0.104282368734236  0.0 \n",
       " -0.00684063353700161  0.0]"
      ]
     },
     "execution_count": 507,
     "metadata": {},
     "output_type": "execute_result"
    }
   ],
   "source": [
    "weights = np.array([AsinNumeric(i, fn) if not i%2 == 0 else 0 for i in range(0,order+1)])\n",
    "Array(weights)"
   ]
  },
  {
   "cell_type": "code",
   "execution_count": 508,
   "metadata": {},
   "outputs": [
    {
     "data": {
      "image/png": "[encoded data removed]",
      "text/latex": [
       "$$\\left( x \\mapsto \\sum_{j=0}^{n} \\operatorname{T_{ch}}{\\left (j,x \\right )} {w}_{j} \\right)$$"
      ],
      "text/plain": [
       "      n                  \n",
       "     ___                 \n",
       "     ╲                   \n",
       "      ╲   T_ch(j, x)⋅w[j]\n",
       "x ↦   ╱                  \n",
       "     ╱                   \n",
       "     ‾‾‾                 \n",
       "    j = 0                "
      ]
     },
     "execution_count": 508,
     "metadata": {},
     "output_type": "execute_result"
    }
   ],
   "source": [
    "j = Symbol('j', integer=True)\n",
    "w = IndexedBase('w')\n",
    "Ns = S('n')\n",
    "Ts = implemented_function('T_ch', T)\n",
    "s = Lambda(x, Sum(w[j]*Ts(j, x),(j,0,Ns)))\n",
    "s"
   ]
  },
  {
   "cell_type": "code",
   "execution_count": 509,
   "metadata": {},
   "outputs": [],
   "source": [
    "pol = s.subs(Ns, order-1)\n",
    "pol = pol.doit().evalf().subs(w, Array(weights))"
   ]
  },
  {
   "cell_type": "code",
   "execution_count": 510,
   "metadata": {},
   "outputs": [
    {
     "data": {
      "image/png": "[encoded data removed]",
      "text/latex": [
       "$$- \\frac{0.437800546368103 t^{7}}{\\pi^{7}} + \\frac{2.43466885589196 t^{5}}{\\pi^{5}} - \\frac{5.13638954238071 t^{3}}{\\pi^{3}} + \\frac{3.13927698200774 t}{\\pi}$$"
      ],
      "text/plain": [
       "                     7                     5                     3            \n",
       "  0.437800546368103⋅t    2.43466885589196⋅t    5.13638954238071⋅t    3.1392769\n",
       "- ──────────────────── + ─────────────────── - ─────────────────── + ─────────\n",
       "            7                      5                     3                   π\n",
       "           π                      π                     π                     \n",
       "\n",
       "         \n",
       "8200774⋅t\n",
       "─────────\n",
       "         \n",
       "         "
      ]
     },
     "execution_count": 510,
     "metadata": {},
     "output_type": "execute_result"
    }
   ],
   "source": [
    "pol(t/pi).replace(Ts, T).simplify()"
   ]
  },
  {
   "cell_type": "code",
   "execution_count": 511,
   "metadata": {},
   "outputs": [
    {
     "data": {
      "image/png": "[encoded data removed]",
      "text/latex": [
       "$$- \\frac{0.437800546368103 t^{7}}{\\pi^{7}} + \\frac{2.43466885589196 t^{5}}{\\pi^{5}} - \\frac{5.13638954238071 t^{3}}{\\pi^{3}} + \\frac{3.13927698200774 t}{\\pi}$$"
      ],
      "text/plain": [
       "                     7                     5                     3            \n",
       "  0.437800546368103⋅t    2.43466885589196⋅t    5.13638954238071⋅t    3.1392769\n",
       "- ──────────────────── + ─────────────────── - ─────────────────── + ─────────\n",
       "            7                      5                     3                   π\n",
       "           π                      π                     π                     \n",
       "\n",
       "         \n",
       "8200774⋅t\n",
       "─────────\n",
       "         \n",
       "         "
      ]
     },
     "execution_count": 511,
     "metadata": {},
     "output_type": "execute_result"
    }
   ],
   "source": [
    "t = S('t')\n",
    "shift = pol(t/pi).replace(Ts, T).simplify()\n",
    "shift"
   ]
  },
  {
   "cell_type": "code",
   "execution_count": 512,
   "metadata": {},
   "outputs": [
    {
     "data": {
      "image/png": "[encoded data removed]",
      "text/latex": [
       "$$- \\frac{0.437800546368103 t^{7}}{\\pi^{7}} + \\frac{2.43466885589196 t^{5}}{\\pi^{5}} - \\frac{5.13638954238071 t^{3}}{\\pi^{3}} + \\frac{3.13927698200774 t}{\\pi}$$"
      ],
      "text/plain": [
       "                     7                     5                     3            \n",
       "  0.437800546368103⋅t    2.43466885589196⋅t    5.13638954238071⋅t    3.1392769\n",
       "- ──────────────────── + ─────────────────── - ─────────────────── + ─────────\n",
       "            7                      5                     3                   π\n",
       "           π                      π                     π                     \n",
       "\n",
       "         \n",
       "8200774⋅t\n",
       "─────────\n",
       "         \n",
       "         "
      ]
     },
     "execution_count": 512,
     "metadata": {},
     "output_type": "execute_result"
    }
   ],
   "source": [
    "e = Poly(shift.expand(), t)\n",
    "e.as_expr()"
   ]
  },
  {
   "cell_type": "code",
   "execution_count": 513,
   "metadata": {},
   "outputs": [
    {
     "data": {
      "text/plain": [
       "array([-1.4495300e-04,  0.0000000e+00,  7.9559227e-03,  0.0000000e+00,\n",
       "       -1.6565645e-01,  0.0000000e+00,  9.9926287e-01,  0.0000000e+00],\n",
       "      dtype=float32)"
      ]
     },
     "execution_count": 513,
     "metadata": {},
     "output_type": "execute_result"
    }
   ],
   "source": [
    "np.set_printoptions(precision=15)\n",
    "coeffs = np.array([cf.n() for cf in e.all_coeffs()], dtype=np.float32)\n",
    "coeffs"
   ]
  },
  {
   "cell_type": "code",
   "execution_count": 514,
   "metadata": {},
   "outputs": [
    {
     "name": "stderr",
     "output_type": "stream",
     "text": [
      "D:\\Program Files (x86)\\Microsoft Visual Studio\\Shared\\Anaconda3_64\\lib\\site-packages\\scipy\\integrate\\quadpack.py:385: IntegrationWarning: The maximum number of subdivisions (50) has been achieved.\n",
      "  If increasing the limit yields no improvement it is advised to analyze \n",
      "  the integrand in order to determine the difficulties.  If the position of a \n",
      "  local difficulty can be determined (singularity, discontinuity) one will \n",
      "  probably gain from splitting up the interval and calling the integrator \n",
      "  on the subranges.  Perhaps a special-purpose integrator should be used.\n",
      "  warnings.warn(msg, IntegrationWarning)\n"
     ]
    },
    {
     "data": {
      "image/png": "[encoded data removed]",
      "text/latex": [
       "$$\\left ( 0.001005992962685899, \\quad 1.7010701423910364e-07\\right )$$"
      ],
      "text/plain": [
       "(0.001005992962685899, 1.7010701423910364e-07)"
      ]
     },
     "execution_count": 514,
     "metadata": {},
     "output_type": "execute_result"
    }
   ],
   "source": [
    "apx = lambda x: np.sum(coeffs * x**np.arange(len(coeffs)-1,-1,-1), axis=0)\n",
    "spint.quad(lambda x: abs(apx(x)- np.sin(x)), -np.pi,np.pi)"
   ]
  },
  {
   "cell_type": "code",
   "execution_count": 515,
   "metadata": {},
   "outputs": [
    {
     "data": {
      "image/png": "[encoded data removed]",
      "text/plain": [
       "<Figure size 432x288 with 1 Axes>"
      ]
     },
     "metadata": {
      "needs_background": "light"
     },
     "output_type": "display_data"
    }
   ],
   "source": [
    "xn = np.linspace(-2*np.pi, 2*np.pi, 1000)\n",
    "yn = np.array([apx(p) for p in xn])\n",
    "plt.plot(xn, yn, c='g');\n",
    "plt.plot(xn, np.sin(xn))\n",
    "plt.show()"
   ]
  },
  {
   "cell_type": "code",
   "execution_count": 523,
   "metadata": {},
   "outputs": [
    {
     "data": {
      "image/png": "[encoded data removed]",
      "text/latex": [
       "$$1.3852243699698104$$"
      ],
      "text/plain": [
       "1.3852243699698104"
      ]
     },
     "execution_count": 523,
     "metadata": {},
     "output_type": "execute_result"
    }
   ],
   "source": [
    "xnr = np.random.random(1000)*2*np.pi\n",
    "np.max(np.abs(np.array([apx(p) for p in xnr]) - np.sin(xnr)))"
   ]
  },
  {
   "cell_type": "code",
   "execution_count": null,
   "metadata": {
    "collapsed": true,
    "jupyter": {
     "outputs_hidden": true
    }
   },
   "outputs": [],
   "source": []
  },
  {
   "cell_type": "code",
   "execution_count": 524,
   "metadata": {},
   "outputs": [
    {
     "data": {
      "image/png": "[encoded data removed]",
      "text/latex": [
       "$$0.0002556066437039428$$"
      ],
      "text/plain": [
       "0.0002556066437039428"
      ]
     },
     "execution_count": 524,
     "metadata": {},
     "output_type": "execute_result"
    }
   ],
   "source": [
    "coeffs = np.array([-1.4495300e-04, 7.9559227e-03, -1.6565645e-01, 9.9926287e-01], dtype=np.float32);\n",
    "def apx2(rad):\n",
    "    rad = -(rad % (2*np.pi) - np.pi)\n",
    "    x2 = rad*rad\n",
    "    return rad \\\n",
    "                * (coeffs[3] + x2 \\\n",
    "                * (coeffs[2] + x2 \\\n",
    "                * (coeffs[1] + x2 \\\n",
    "                *  coeffs[0]))); \\\n",
    "\n",
    "np.max(np.abs(np.array([apx2(p) for p in xnr]) - np.sin(xnr)))"
   ]
  },
  {
   "cell_type": "code",
   "execution_count": null,
   "metadata": {},
   "outputs": [],
   "source": []
  }
 ],
 "metadata": {
  "anaconda-cloud": {},
  "kernelspec": {
   "display_name": "Python 3",
   "language": "python",
   "name": "python3"
  },
  "language_info": {
   "codemirror_mode": {
    "name": "ipython",
    "version": 3
   },
   "file_extension": ".py",
   "mimetype": "text/x-python",
   "name": "python",
   "nbconvert_exporter": "python",
   "pygments_lexer": "ipython3",
   "version": "3.8.5"
  }
 },
 "nbformat": 4,
 "nbformat_minor": 4
}
